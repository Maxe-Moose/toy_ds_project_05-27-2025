{
 "cells": [
  {
   "cell_type": "code",
   "execution_count": null,
   "id": "28042638-8781-498f-a107-bb2f0fb797bf",
   "metadata": {},
   "outputs": [],
   "source": [
    "# all libraries needed\n",
    "library(tidyverse)\n",
    "library(tidymodels)\n",
    "library(forcats)\n",
    "library(repr)\n",
    "library(dplyr)"
   ]
  },
  {
   "cell_type": "code",
   "execution_count": null,
   "id": "2e617e6b-e3f3-4be0-bb16-9b67c05e2842",
   "metadata": {},
   "outputs": [],
   "source": [
    "# wrangling\n",
    "player_data <- read_csv('data/players.csv')\n",
    "session_data <- read_csv('data/sessions.csv')\n",
    "\n",
    "\n",
    "merged_player_data <- left_join(player_data, session_data, by = 'hashedEmail')\n",
    "\n",
    "write.csv(merged_player_data, \"merged_file.csv\", row.names = FALSE)\n",
    "\n",
    "final_data_players <- merged_player_data |>\n",
    "    group_by(hashedEmail) |>\n",
    "    summarize(num_sessions = n(), experience = first(experience), played_hours = first(played_hours))\n",
    "\n",
    "final_data_players"
   ]
  },
  {
   "cell_type": "code",
   "execution_count": null,
   "id": "0c30dd5b-548a-4d85-b107-348f78169db6",
   "metadata": {},
   "outputs": [],
   "source": [
    "options(repr.plot.width = 8, repr.plot.height = 7)\n",
    "#first visualization for showing a correlation\n",
    "\n",
    "session_to_hours_plot <- final_data_players |>\n",
    "    ggplot(aes(x = num_sessions, y = played_hours, color = experience)) +\n",
    "    geom_point() +\n",
    "    labs(x = 'number of sessions played',\n",
    "         y = 'total hours played',\n",
    "         color = 'Minecraft experince') +\n",
    "    xlim(0,50)\n",
    "session_to_hours_plot"
   ]
  },
  {
   "cell_type": "code",
   "execution_count": null,
   "id": "d77fa4a6-1642-40c9-ad62-fb940d73b288",
   "metadata": {},
   "outputs": [],
   "source": []
  }
 ],
 "metadata": {
  "kernelspec": {
   "display_name": "R",
   "language": "R",
   "name": "ir"
  },
  "language_info": {
   "codemirror_mode": "r",
   "file_extension": ".r",
   "mimetype": "text/x-r-source",
   "name": "R",
   "pygments_lexer": "r",
   "version": "4.3.3"
  }
 },
 "nbformat": 4,
 "nbformat_minor": 5
}
