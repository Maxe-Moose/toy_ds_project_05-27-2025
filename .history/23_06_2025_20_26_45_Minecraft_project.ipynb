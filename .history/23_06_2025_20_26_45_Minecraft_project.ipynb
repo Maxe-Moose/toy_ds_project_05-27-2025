{
 "cells": [
  {
   "cell_type": "code",
   "execution_count": null,
   "id": "28042638-8781-498f-a107-bb2f0fb797bf",
   "metadata": {},
   "outputs": [],
   "source": [
    "# all libraries needed\n",
    "library(tidyverse)\n",
    "library(tidymodels)\n",
    "library(forcats)\n",
    "library(repr)\n",
    "library(dplyr)"
   ]
  },
  {
   "cell_type": "markdown",
   "id": "c4fbb4e4-a211-44bd-8640-cf5b9ac8c0c8",
   "metadata": {},
   "source": [
    "### Predicting the age of the user\n",
    "\n",
    "Introduction\n",
    "\n",
    "Online games allow for an extensive amount of data to be collected on users for understanding user behavior. A research group in Computer Science at the University of British Columbia (UBC), led by Frank Wood, is collecting data from a custom Minecraft server to study how people play video games. They aim to optimize their project by targeting recruitment efforts and ensuring server resources are sufficient for the player base. To do this, they need to better understand the characteristics and behaviors of their players. This raises the question: can a player's engagement metrics, specifically the total number of sessions played and total hours played, be used to predict whether a player is an adult (18+) or underaged (under 18) in the UBC server dataset?\n",
    "\n",
    "The analysis utilizes two datasets provided by the research group: players.csv, containing unique player attributes, and sessions.csv, containing records of individual play sessions.To prepare the data for analysis, the two datasets were combined based on the common hashedEmail variable. The goal was to isolate the total number of sessions for each player, their total play hours, and their age. An initial challenge arose during this process, as sessions.csv originally contained 1535 rows (representing individual sessions) while players.csv only contained 196 rows (representing unique players). This required sessions.csv to be joined with players.csv using a left_join(). Afterward, the resulting file was grouped by player and summarized into a concise dataset containing age, total play time, and number of sessions for each unique player.\n",
    "\n",
    "Methods and Results\n",
    "\n",
    "As mentioned above, the goal of this was to combine the two files in such a way that makes it easy to extrapolate useful data from. However, because I wanted to create a classification model, I did mutate the ages into age groups, making it a class. My thinking behind this was to create two distinct groups based on the amount of time they usually have for freetime (under 18 usually has more as they don't have work, university, and whatnot)."
   ]
  },
  {
   "cell_type": "code",
   "execution_count": null,
   "id": "2e617e6b-e3f3-4be0-bb16-9b67c05e2842",
   "metadata": {},
   "outputs": [],
   "source": [
    "# wrangling\n",
    "player_data <- read_csv('data/players.csv')\n",
    "session_data <- read_csv('data/sessions.csv')\n",
    "\n",
    "merged_player_data <- left_join(player_data, session_data, by = 'hashedEmail')\n",
    "\n",
    "write.csv(merged_player_data, \"merged_file.csv\", row.names = FALSE)\n",
    "\n",
    "final_data_players <- merged_player_data |>\n",
    "    group_by(hashedEmail) |>\n",
    "    summarize(num_sessions = n(), Age = first(Age), played_hours = first(played_hours)) |>\n",
    "    mutate(age_group = if_else(Age < 18, \"Underaged\", \"Adult\")) |>\n",
    "    mutate(age_group = as_factor(age_group)) |>\n",
    "    select(-Age, - hashedEmail)\n",
    "\n",
    "head(final_data_players, n = 6)"
   ]
  },
  {
   "cell_type": "markdown",
   "id": "e5585c2b-50ce-4074-8e22-82cdb8128a47",
   "metadata": {},
   "source": [
    "To begin the exploratory data analysis, a scatter plot was created to investigate the relationship between the two primary predictor variables: the number of sessions a player has logged (num_sessions) and their total hours played (played_hours). The points on the plot are colored by the age_group response variable (\"Adult\" or \"Underaged\") to determine if there are any obvious visual patterns or clusters that distinguish the two groups. This helps to assess the potential difficulty of the classification task ahead.\n",
    "\n",
    "As seen in Figure 1 positive correlation between the number of sessions and the hours played. This is an expected relationship, as players who log in more frequently will naturally accumulate more total playtime.\n",
    "\n",
    "Crucially, in the context of our research question, there is no obvious visual separation between the \"Adult\" and \"Underaged\" data points. The two groups appear to be heavily intermingled across the entire range of engagement levels shown. This lack of a clear boundary is key as it suggests that a simple linear model wouldn't be able to distinguish between the two classes based on this information alone."
   ]
  },
  {
   "cell_type": "code",
   "execution_count": null,
   "id": "0c30dd5b-548a-4d85-b107-348f78169db6",
   "metadata": {},
   "outputs": [],
   "source": [
    "options(repr.plot.width = 8, repr.plot.height = 7)\n",
    "#first visualization for showing a correlation\n",
    "\n",
    "session_to_hours_plot <- final_data_players |>\n",
    "    ggplot(aes(x = num_sessions, y = played_hours, color = age_group)) +\n",
    "    geom_point() +\n",
    "    labs(x = 'number of sessions played',\n",
    "         y = 'total hours played',\n",
    "         color = 'Age group') +\n",
    "    ggtitle('Figure 1') +\n",
    "    xlim(0, 50) +\n",
    "    ylim(0, 50)\n",
    "\n",
    "session_to_hours_plot"
   ]
  },
  {
   "cell_type": "markdown",
   "id": "78970f79-885c-472d-957a-daaa58e821b1",
   "metadata": {},
   "source": [
    "The final player dataset was split into a training set (75% of the data) and a testing set (25% of the data). A stratified split was performed on the age_group variable to ensure that the proportion of \"Adult\" and \"Underaged\" players was similar in both the training and testing sets. The testing set was held out and not used for any training or tuning procedures."
   ]
  },
  {
   "cell_type": "code",
   "execution_count": null,
   "id": "d77fa4a6-1642-40c9-ad62-fb940d73b288",
   "metadata": {},
   "outputs": [],
   "source": [
    "# split training and testing data\n",
    "set.seed(3456) \n",
    "\n",
    "player_split <- initial_split(final_data_players, prop = .75, strata = age_group)  \n",
    "player_train <- training(player_split)   \n",
    "player_test <- testing(player_split)"
   ]
  },
  {
   "cell_type": "code",
   "execution_count": null,
   "id": "a9d193c9-e664-448e-b1fa-631b05a3b67b",
   "metadata": {},
   "outputs": [],
   "source": [
    "# model test\n",
    "set.seed(3456) \n",
    "\n",
    "player_recipe <- recipe(age_group ~ num_sessions + played_hours , data = player_train) |>\n",
    "   step_scale(all_predictors()) |>\n",
    "   step_center(all_predictors())\n",
    "\n",
    "knn_spec <- nearest_neighbor(weight_func = 'rectangular', neighbors = 5) |>\n",
    "      set_engine('kknn') |>\n",
    "      set_mode('classification')\n",
    "\n",
    "player_vfold <- vfold_cv(player_train, v = 10, repeats = 3, strata = age_group)\n",
    "\n",
    "player_resample_fit <- workflow() |>\n",
    "      add_recipe(player_recipe) |>\n",
    "      add_model(knn_spec) |>\n",
    "      fit_resamples(resamples = player_vfold) \n",
    "\n",
    "player_metrics <- collect_metrics(player_resample_fit)\n",
    "player_metrics"
   ]
  },
  {
   "cell_type": "code",
   "execution_count": null,
   "id": "ddcf15a5-21bf-482b-b290-fbb355c360bc",
   "metadata": {},
   "outputs": [],
   "source": [
    "#tune model\n",
    "\n",
    "set.seed(3456) \n",
    "\n",
    "player_vfold <- vfold_cv(player_train, v = 10, strata = age_group)\n",
    "\n",
    "k_vals <- tibble(neighbors = c(1:20))\n",
    "\n",
    "knn_tune_spec <- nearest_neighbor(neighbors = tune()) |>\n",
    "  set_engine(\"kknn\") |>\n",
    "  set_mode(\"classification\")\n",
    "\n",
    "knn_workflow <- workflow() |>\n",
    "  add_recipe(player_recipe) |>\n",
    "  add_model(knn_tune_spec)\n",
    "\n",
    "better_tuning_results <- knn_workflow |>\n",
    "    tune_grid(resamples = player_vfold, grid = k_vals)\n",
    "\n",
    "# Or see the best performing values of k\n",
    "results <- show_best(better_tuning_results, metric = \"accuracy\")\n",
    "results"
   ]
  },
  {
   "cell_type": "code",
   "execution_count": null,
   "id": "c36d3ed9-b5b9-4884-be20-4c7a6df20a35",
   "metadata": {},
   "outputs": [],
   "source": [
    "# select the best model and update the workflow\n",
    "\n",
    "best_k <- results |>\n",
    "  filter(.metric == \"accuracy\") |>\n",
    "  filter(mean == max(mean)) |>\n",
    "  arrange(neighbors) |>\n",
    "  slice(1) |>\n",
    "  pull(neighbors)\n",
    "\n",
    "knn_tune_spec_final <- nearest_neighbor(neighbors = best_k) |>\n",
    "  set_engine(\"kknn\") |>\n",
    "  set_mode(\"classification\")\n",
    "\n",
    "final_knn_workflow <- workflow() |>\n",
    "  add_recipe(player_recipe) |>\n",
    "  add_model(knn_tune_spec_final)\n",
    "\n",
    "final_model_fit <- fit(\n",
    "  final_knn_workflow,\n",
    "  data = player_train)\n",
    "\n",
    "final_model_fit"
   ]
  },
  {
   "cell_type": "markdown",
   "id": "8ec38ba3-5f61-4517-8791-40d5fb560a7c",
   "metadata": {},
   "source": [
    "### Predicting the age of the user\n",
    "\n",
    "Introduction\n",
    "\n",
    "Online games allow for an extensive amount of data to be collected on users for understanding user behavior. A research group in Computer Science at the University of British Columbia (UBC), led by Frank Wood, is collecting data from a custom Minecraft server to study how people play video games. They aim to optimize their project by targeting recruitment efforts and ensuring server resources are sufficient for the player base. To do this, they need to better understand the characteristics and behaviors of their players. This raises the question: can a player's engagement metrics, specifically the total number of sessions played and total hours played, be used to predict whether a player is an adult (18+) or underaged (under 18) in the UBC server dataset?\n",
    "\n",
    "The analysis utilizes two datasets provided by the research group: players.csv, containing unique player attributes, and sessions.csv, containing records of individual play sessions.To prepare the data for analysis, the two datasets were combined based on the common hashedEmail variable. The goal was to isolate the total number of sessions for each player, their total play hours, and their age. An initial challenge arose during this process, as sessions.csv originally contained 1535 rows (representing individual sessions) while players.csv only contained 196 rows (representing unique players). This required sessions.csv to be joined with players.csv using a left_join(). Afterward, the resulting file was grouped by player and summarized into a concise dataset containing age, total play time, and number of sessions for each unique player."
   ]
  }
 ],
 "metadata": {
  "kernelspec": {
   "display_name": "R",
   "language": "R",
   "name": "ir"
  },
  "language_info": {
   "codemirror_mode": "r",
   "file_extension": ".r",
   "mimetype": "text/x-r-source",
   "name": "R",
   "pygments_lexer": "r",
   "version": "4.3.3"
  }
 },
 "nbformat": 4,
 "nbformat_minor": 5
}
