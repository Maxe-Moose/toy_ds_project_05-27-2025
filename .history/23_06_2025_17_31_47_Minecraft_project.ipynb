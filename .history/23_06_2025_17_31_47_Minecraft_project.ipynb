{
 "cells": [
  {
   "cell_type": "code",
   "execution_count": null,
   "id": "28042638-8781-498f-a107-bb2f0fb797bf",
   "metadata": {},
   "outputs": [],
   "source": [
    "# all libraries needed\n",
    "library(tidyverse)\n",
    "library(tidymodels)\n",
    "library(forcats)\n",
    "library(repr)\n",
    "library(dplyr)"
   ]
  },
  {
   "cell_type": "code",
   "execution_count": null,
   "id": "2e617e6b-e3f3-4be0-bb16-9b67c05e2842",
   "metadata": {},
   "outputs": [],
   "source": [
    "# wrangling\n",
    "player_data <- read_csv('data/players.csv')\n",
    "session_data <- read_csv('data/sessions.csv')\n",
    "\n",
    "\n",
    "merged_player_data <- left_join(player_data, session_data, by = 'hashedEmail')\n",
    "\n",
    "write.csv(merged_player_data, \"merged_file.csv\", row.names = FALSE)\n",
    "\n",
    "final_data_players <- merged_player_data |>\n",
    "    group_by(hashedEmail) |>\n",
    "    summarize(num_sessions = n(), Age = first(Age), played_hours = first(played_hours)) |>\n",
    "    mutate(\n",
    "    age_group = cut(Age,\n",
    "                    breaks = c(-Inf, 10, 17, 25, Inf),\n",
    "                    labels = c(\"0-10\", \"11-17\", \"18-25\", \"26+\"),\n",
    "                    right = TRUE)\n",
    "  ) |>\n",
    "    mutate(age_group = as_factor(age_group)) |>\n",
    "    select(-Age)\n",
    "\n",
    "final_data_players"
   ]
  },
  {
   "cell_type": "code",
   "execution_count": null,
   "id": "0c30dd5b-548a-4d85-b107-348f78169db6",
   "metadata": {},
   "outputs": [],
   "source": [
    "options(repr.plot.width = 8, repr.plot.height = 7)\n",
    "#first visualization for showing a correlation\n",
    "\n",
    "session_to_hours_plot <- final_data_players |>\n",
    "    ggplot(aes(x = num_sessions, y = played_hours, color = experience_group)) +\n",
    "    geom_point() +\n",
    "    labs(x = 'number of sessions played',\n",
    "         y = 'total hours played',\n",
    "         color = 'Minecraft experince') +\n",
    "    xlim(0, 50) +\n",
    "    ylim(0)\n",
    "session_to_hours_plot\n",
    "\n",
    "#if considering that the experince levels go from amatur, beginner, regular, pro, and then veteran. This data actually shows that experinced players play less. "
   ]
  },
  {
   "cell_type": "code",
   "execution_count": null,
   "id": "d77fa4a6-1642-40c9-ad62-fb940d73b288",
   "metadata": {},
   "outputs": [],
   "source": [
    "# split training and testing data\n",
    "set.seed(3456) \n",
    "\n",
    "player_split <- initial_split(final_data_players, prop = .75, strata = experience_group)  \n",
    "player_train <- training(player_split)   \n",
    "player_test <- testing(player_split)\n",
    "\n",
    "player_train\n",
    "player_test"
   ]
  },
  {
   "cell_type": "code",
   "execution_count": null,
   "id": "a9d193c9-e664-448e-b1fa-631b05a3b67b",
   "metadata": {},
   "outputs": [],
   "source": [
    "# create workflow\n",
    "\n",
    "player_recipe <- recipe(experience_group ~ num_sessions + played_hours , data = player_train) |>\n",
    "   step_scale(all_predictors()) |>\n",
    "   step_center(all_predictors())\n",
    "\n",
    "knn_spec <- nearest_neighbor(weight_func = 'rectangular', neighbors = 3) |>\n",
    "      set_engine('kknn') |>\n",
    "      set_mode('classification')\n",
    "\n",
    "player_vfold <- vfold_cv(player_train, v = 8, strata = experience_group)\n",
    "\n",
    "player_resample_fit <- workflow() |>\n",
    "      add_recipe(player_recipe) |>\n",
    "      add_model(knn_spec) |>\n",
    "      fit_resamples(resamples = player_vfold) \n",
    "\n",
    "player_metrics <- collect_metrics(player_resample_fit)\n",
    "player_metrics"
   ]
  },
  {
   "cell_type": "code",
   "execution_count": null,
   "id": "92740807-0bca-419b-ae15-6a0e3531c056",
   "metadata": {},
   "outputs": [],
   "source": [
    "# test work\n",
    "\n",
    "\n",
    "\n",
    "player_test_predictions <- predict(player_fit , player_test) |>\n",
    "      bind_cols(player_test)\n",
    "\n",
    "player_test_predictions\n",
    "\n",
    "player_metrics <- collect_metrics(player_resample_fit)\n",
    "player_metrics"
   ]
  },
  {
   "cell_type": "code",
   "execution_count": null,
   "id": "1eb70ca9-5366-4888-9f2e-bee2bf20a343",
   "metadata": {},
   "outputs": [],
   "source": []
  }
 ],
 "metadata": {
  "kernelspec": {
   "display_name": "R",
   "language": "R",
   "name": "ir"
  },
  "language_info": {
   "codemirror_mode": "r",
   "file_extension": ".r",
   "mimetype": "text/x-r-source",
   "name": "R",
   "pygments_lexer": "r",
   "version": "4.3.3"
  }
 },
 "nbformat": 4,
 "nbformat_minor": 5
}
