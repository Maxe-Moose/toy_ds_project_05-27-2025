{
 "cells": [
  {
   "cell_type": "code",
   "execution_count": null,
   "id": "28042638-8781-498f-a107-bb2f0fb797bf",
   "metadata": {},
   "outputs": [],
   "source": [
    "# all libraries needed\n",
    "library(tidyverse)\n",
    "library(tidymodels)\n",
    "library(forcats)\n",
    "library(repr)\n",
    "library(dplyr)"
   ]
  },
  {
   "cell_type": "code",
   "execution_count": null,
   "id": "2e617e6b-e3f3-4be0-bb16-9b67c05e2842",
   "metadata": {},
   "outputs": [],
   "source": [
    "# wrangling\n",
    "player_data <- read_csv('data/players.csv')\n",
    "session_data <- read_csv('data/sessions.csv')\n",
    "\n",
    "\n",
    "merged_player_data <- left_join(player_data, session_data, by = 'hashedEmail')\n",
    "\n",
    "write.csv(merged_player_data, \"merged_file.csv\", row.names = FALSE)\n",
    "\n",
    "final_data_players <- merged_player_data |>\n",
    "    group_by(hashedEmail) |>\n",
    "    summarize(num_sessions = n(), Age = first(Age), played_hours = first(played_hours)) |>\n",
    "    mutate(\n",
    "    age_group = if_else(Age < 18, \"Underaged\", \"Adult\")\n",
    "  ) |>\n",
    "    mutate(age_group = as_factor(age_group)) |>\n",
    "    select(-Age)\n",
    "\n",
    "final_data_players"
   ]
  },
  {
   "cell_type": "code",
   "execution_count": null,
   "id": "0c30dd5b-548a-4d85-b107-348f78169db6",
   "metadata": {},
   "outputs": [],
   "source": [
    "options(repr.plot.width = 8, repr.plot.height = 7)\n",
    "#first visualization for showing a correlation\n",
    "\n",
    "session_to_hours_plot <- final_data_players |>\n",
    "    ggplot(aes(x = num_sessions, y = played_hours, color = age_group)) +\n",
    "    geom_point() +\n",
    "    labs(x = 'number of sessions played',\n",
    "         y = 'total hours played',\n",
    "         color = 'Age group') +\n",
    "    xlim(0, 50) +\n",
    "    ylim(0, 50)\n",
    "session_to_hours_plot\n",
    "\n",
    "#if considering that the experince levels go from amatur, beginner, regular, pro, and then veteran. This data actually shows that experinced players play less. "
   ]
  },
  {
   "cell_type": "code",
   "execution_count": null,
   "id": "d77fa4a6-1642-40c9-ad62-fb940d73b288",
   "metadata": {},
   "outputs": [],
   "source": [
    "# split training and testing data\n",
    "set.seed(3456) \n",
    "\n",
    "player_split <- initial_split(final_data_players, prop = .75, strata = age_group)  \n",
    "player_train <- training(player_split)   \n",
    "player_test <- testing(player_split)\n",
    "\n",
    "player_train\n",
    "player_test"
   ]
  },
  {
   "cell_type": "code",
   "execution_count": null,
   "id": "a9d193c9-e664-448e-b1fa-631b05a3b67b",
   "metadata": {},
   "outputs": [],
   "source": [
    "# model test\n",
    "set.seed(3456) \n",
    "\n",
    "player_recipe <- recipe(age_group ~ num_sessions + played_hours , data = player_train) |>\n",
    "   step_scale(all_predictors()) |>\n",
    "   step_center(all_predictors())\n",
    "\n",
    "knn_spec <- nearest_neighbor(weight_func = 'rectangular', neighbors = 5) |>\n",
    "      set_engine('kknn') |>\n",
    "      set_mode('classification')\n",
    "\n",
    "player_vfold <- vfold_cv(player_train, v = 10, repeats = 3, strata = age_group)\n",
    "\n",
    "player_resample_fit <- workflow() |>\n",
    "      add_recipe(player_recipe) |>\n",
    "      add_model(knn_spec) |>\n",
    "      fit_resamples(resamples = player_vfold) \n",
    "\n",
    "player_metrics <- collect_metrics(player_resample_fit)\n",
    "player_metrics"
   ]
  },
  {
   "cell_type": "code",
   "execution_count": null,
   "id": "ddcf15a5-21bf-482b-b290-fbb355c360bc",
   "metadata": {},
   "outputs": [],
   "source": [
    "#tune model\n",
    "\n",
    "set.seed(3456) \n",
    "\n",
    "player_vfold <- vfold_cv(player_train, v = 10, strata = age_group)\n",
    "\n",
    "k_vals <- tibble(neighbors = c(1:20))\n",
    "\n",
    "knn_tune_spec <- nearest_neighbor(neighbors = tune()) |>\n",
    "  set_engine(\"kknn\") |>\n",
    "  set_mode(\"classification\")\n",
    "\n",
    "knn_workflow <- workflow() |>\n",
    "  add_recipe(player_recipe) |>\n",
    "  add_model(knn_tune_spec)\n",
    "\n",
    "better_tuning_results <- knn_workflow |>\n",
    "    tune_grid(resamples = player_vfold, grid = k_vals)\n",
    "\n",
    "# Or see the best performing values of k\n",
    "results <- show_best(better_tuning_results, metric = \"accuracy\")\n",
    "results"
   ]
  },
  {
   "cell_type": "code",
   "execution_count": null,
   "id": "c36d3ed9-b5b9-4884-be20-4c7a6df20a35",
   "metadata": {},
   "outputs": [],
   "source": [
    "# select the best model and update the workflow\n",
    "\n",
    "best_k <- results |>\n",
    "  filter(.metric == \"accuracy\") |>\n",
    "  filter(mean == max(mean)) |>\n",
    "  arrange(neighbors) |>\n",
    "  slice(1) |>\n",
    "  pull(neighbors)\n",
    "\n",
    "knn_tune_spec_final <- nearest_neighbor(neighbors = best_k) |>\n",
    "  set_engine(\"kknn\") |>\n",
    "  set_mode(\"classification\")\n",
    "\n",
    "final_knn_workflow <- workflow() |>\n",
    "  add_recipe(player_recipe) |>\n",
    "  add_model(knn_tune_spec_final)\n",
    "\n",
    "final_model_fit <- fit(\n",
    "  final_knn_workflow,\n",
    "  data = player_train)\n",
    "\n",
    "final_model_fit"
   ]
  },
  {
   "cell_type": "markdown",
   "id": "8ec38ba3-5f61-4517-8791-40d5fb560a7c",
   "metadata": {},
   "source": [
    "### Predicting the age of the user\n",
    "\n",
    "Introduction\n",
    "\n",
    "Online games allow for an extensive amount of data to be collect on users for understanding user behavior. A research group in Computer Science at the University of British Columbia (UBC), led by Frank Wood, is collecting data from a custom Minecraft server to study how people play video games. They aim to optimize their project by targeting recruitment efforts and ensuring server resources are sufficient for the player base. To do this, they need to better understand the characteristics and behaviors of their players. One question is if  a player's engagement metrics, specifically the total number of sessions played and total hours played, be used to predict whether a player is an adult (18+) or not an adult (under 18) in the UBC's server dataset?\n",
    "\n",
    "The analysis utilizes two datasets provided by the research group: players.csv, containing unique player attributes, and sessions.csv, containing records of individual play sessions. To prepare the data for analysis, the two datasets were combined based on the common variable hashedEmail. The goal was to isolate the amount of times a player loged in and the total play hours. \n",
    "\n",
    "The merged data was then grouped by each unique player (hashedEmail).\n",
    "\n",
    "From these groups, a final player-level summary dataset was created by aggregating the data to calculate the total number of sessions (num_sessions) and extracting the player's total play time (played_hours) and Age.\n",
    "\n",
    "A new binary response variable, age_group, was engineered from the Age column to classify players into two categories: \"Underaged\" (less than 18 years old) and \"Adult\" (18 years or older). The original Age column was then removed to prevent data leakage.\n",
    "\n",
    "The final dataset used for analysis consists of 196 observations (unique players) and the following variables:"
   ]
  }
 ],
 "metadata": {
  "kernelspec": {
   "display_name": "R",
   "language": "R",
   "name": "ir"
  },
  "language_info": {
   "codemirror_mode": "r",
   "file_extension": ".r",
   "mimetype": "text/x-r-source",
   "name": "R",
   "pygments_lexer": "r",
   "version": "4.3.3"
  }
 },
 "nbformat": 4,
 "nbformat_minor": 5
}
